{
  "cells": [
    {
      "cell_type": "code",
      "execution_count": null,
      "metadata": {
        "id": "drAxLoiQPiwq"
      },
      "outputs": [],
      "source": [
        "!pip install PyMuPDF\n",
        "import fitz  # PyMuPDF\n",
        "import re\n",
        "import csv\n",
        "\n",
        "def get_texts_matching_cases(pdf_path, case_list, output_csv, start_page=0, end_page=None):\n",
        "    doc = fitz.open(pdf_path)\n",
        "    matching_texts = []\n",
        "    # 如果沒有指定end_page，則處理到PDF的最後一頁\n",
        "    if end_page is None:\n",
        "        end_page = len(doc)\n",
        "\n",
        "    for page_num in range(start_page, min(end_page, len(doc))):\n",
        "        page = doc.load_page(page_num)\n",
        "        blocks = page.get_text(\"dict\")[\"blocks\"]\n",
        "        # ...（其餘代碼與之前相同）...\n",
        "\n",
        "    # 處理完後不關閉doc，允許下次調用時繼續處理\n",
        "    # doc.close()\n",
        "\n",
        "    # 在這裡可以選擇是追加到CSV或者是先保存到暫時文件\n",
        "    # 以追加模式打開CSV文件\n",
        "    with open(output_csv, 'a', newline='', encoding='utf-8') as csv_file:\n",
        "        fieldnames = ['Title', 'Court', 'Date', 'No', 'page']\n",
        "        writer = csv.DictWriter(csv_file, fieldnames=fieldnames)\n",
        "\n",
        "        # 如果是文件的開始部分，則寫入表頭\n",
        "        if start_page == 0:\n",
        "            writer.writeheader()\n",
        "        # 寫入數據\n",
        "        for result in matching_texts:\n",
        "            writer.writerow(result)\n",
        "\n",
        "    # 返回最後處理的頁面號，以便進行下一段處理\n",
        "    return page_num\n",
        "\n",
        "# 示範用法\n",
        "pdf_file_path = '/content/drive/MyDrive/textmining/Files (100).PDF'\n",
        "output_csv = '/content/drive/MyDrive/textmining/100.csv'\n",
        "result_list = []  # Create an empty list to store case names\n",
        "\n",
        "# 定義每次處理的頁面數\n",
        "pages_at_a_time = 50  # 或根據您的機器性能選擇一個合適的數字\n",
        "\n",
        "# 初始呼叫\n",
        "last_page_processed = get_texts_matching_cases(pdf_file_path, result_list, output_csv, 0, pages_at_a_time)\n",
        "\n",
        "# 循環處理剩餘的頁面\n",
        "while last_page_processed < len(fitz.open(pdf_file_path)):\n",
        "    last_page_processed = get_texts_matching_cases(pdf_file_path, result_list, output_csv, last_page_processed + 1, last_page_processed + 1 + pages_at_a_time)\n",
        "\n"
      ]
    },
    {
      "cell_type": "code",
      "execution_count": null,
      "metadata": {
        "colab": {
          "base_uri": "https://localhost:8080/"
        },
        "id": "DJoH7tjtSgoF",
        "outputId": "7792781e-1971-4779-e28a-29af5e323880"
      },
      "outputs": [
        {
          "name": "stdout",
          "output_type": "stream",
          "text": [
            "21,32,52,68\n"
          ]
        }
      ],
      "source": [
        "import fitz  # PyMuPDF\n",
        "\n",
        "def find_core_terms_pages(pdf_path, search_term):\n",
        "    doc = fitz.open(pdf_path)\n",
        "    pages_with_term = []\n",
        "\n",
        "    for page_num in range(len(doc)):\n",
        "        page = doc.load_page(page_num)\n",
        "        text_instances = page.search_for(search_term)\n",
        "\n",
        "        # 如果在當前頁面找到了該字樣，將頁碼加入列表\n",
        "        if text_instances:\n",
        "            pages_with_term.append(str(page_num + 1))  # 加1是因為頁碼通常從1開始\n",
        "\n",
        "    doc.close()\n",
        "\n",
        "    # 將頁碼列表轉換為逗號分隔的字串\n",
        "    return ','.join(pages_with_term)\n",
        "\n",
        "# 示範用法\n",
        "pdf_file_path = '/content/drive/MyDrive/textmining/Files (100).PDF'\n",
        "search_term = \"Core Terms\"\n",
        "\n",
        "# 呼叫函數並列印結果\n",
        "pages = find_core_terms_pages(pdf_file_path, search_term)\n",
        "print(pages)\n"
      ]
    },
    {
      "cell_type": "code",
      "execution_count": null,
      "metadata": {
        "colab": {
          "base_uri": "https://localhost:8080/"
        },
        "id": "cMcosNi5ne3L",
        "outputId": "33307a5c-bfce-4567-d071-517e3859b69a"
      },
      "outputs": [
        {
          "name": "stdout",
          "output_type": "stream",
          "text": [
            "Collecting PyMuPDF\n",
            "  Downloading PyMuPDF-1.23.20-cp310-none-manylinux2014_x86_64.whl (4.4 MB)\n",
            "\u001b[2K     \u001b[90m━━━━━━━━━━━━━━━━━━━━━━━━━━━━━━━━━━━━━━━━\u001b[0m \u001b[32m4.4/4.4 MB\u001b[0m \u001b[31m13.9 MB/s\u001b[0m eta \u001b[36m0:00:00\u001b[0m\n",
            "\u001b[?25hCollecting PyMuPDFb==1.23.9 (from PyMuPDF)\n",
            "  Downloading PyMuPDFb-1.23.9-py3-none-manylinux2014_x86_64.manylinux_2_17_x86_64.whl (30.6 MB)\n",
            "\u001b[2K     \u001b[90m━━━━━━━━━━━━━━━━━━━━━━━━━━━━━━━━━━━━━━━━\u001b[0m \u001b[32m30.6/30.6 MB\u001b[0m \u001b[31m37.2 MB/s\u001b[0m eta \u001b[36m0:00:00\u001b[0m\n",
            "\u001b[?25hInstalling collected packages: PyMuPDFb, PyMuPDF\n",
            "Successfully installed PyMuPDF-1.23.20 PyMuPDFb-1.23.9\n",
            "8,17,21,24,28,31,46,56,59,67,75,83,101,111,118,123,146,151,160,173,186,189,204,211,232,241,258,277,287,303\n"
          ]
        }
      ],
      "source": [
        "!pip install PyMuPDF\n",
        "import fitz\n",
        "# 由於無法訪問實際的PDF文件，我們將使用先前用戶上傳的文件進行演示\n",
        "pdf_file_path = '/content/drive/MyDrive/textmining/Federal District (30).PDF'\n",
        "\n",
        "# 搜索詞“Core Terms”的變數\n",
        "search_term = \"Core Terms\"\n",
        "\n",
        "# 由於上傳的是圖片，而不是PDF，我們不能直接在這個文件上運行搜索。\n",
        "# 如果這是一個PDF，代碼將如下運行：\n",
        "def find_core_terms_pages(pdf_path, search_term):\n",
        "    doc = fitz.open(pdf_path)\n",
        "    pages_with_term = []\n",
        "\n",
        "    for page_num in range(len(doc)):\n",
        "        page = doc.load_page(page_num)\n",
        "        text_instances = page.search_for(search_term)\n",
        "\n",
        "        if text_instances:\n",
        "            pages_with_term.append(str(page_num + 1))\n",
        "\n",
        "    doc.close()\n",
        "    return ','.join(pages_with_term)\n",
        "\n",
        "# 這行代碼在實際環境中應該可以執行，但在這裡由於文件類型不匹配會導致錯誤。\n",
        "pages = find_core_terms_pages(pdf_file_path, search_term)\n",
        "print(pages)\n",
        "\n",
        "\n"
      ]
    },
    {
      "cell_type": "code",
      "execution_count": 2,
      "metadata": {
        "colab": {
          "base_uri": "https://localhost:8080/"
        },
        "id": "kxzGtw84rGlS",
        "outputId": "114e7ba8-3262-4b3b-9618-017c3bcd347d"
      },
      "outputs": [
        {
          "name": "stdout",
          "output_type": "stream",
          "text": [
            "包含'Core Terms'的頁碼有： [21, 32, 52, 68, 86, 105, 119, 122, 154, 169, 186, 206, 254, 266, 289, 296, 299, 316, 332, 347, 368, 376, 400, 423, 426, 446, 464, 486, 523, 550, 564, 583, 606, 630, 643, 669, 672, 690, 715, 754, 786, 797, 820, 845, 863, 898, 919, 943, 985, 1003, 1034, 1058, 1071, 1082, 1098, 1112, 1125, 1150, 1175, 1196, 1211, 1237, 1241, 1270, 1297, 1326, 1359, 1374, 1386, 1408, 1420, 1437, 1439, 1469, 1503, 1518, 1542, 1557, 1582, 1603, 1622, 1648, 1666, 1688, 1701, 1733, 1739, 1770, 1785, 1807, 1835, 1868, 1888, 1909, 1935, 1951, 1988, 2007, 2019, 2041]\n"
          ]
        }
      ],
      "source": [
        "# !pip install PyMuPDF\n",
        "import fitz  # PyMuPDF\n",
        "\n",
        "def extract_text_with_page_numbers(pdf_path):\n",
        "    \"\"\"提取PDF文檔的文本，同時記錄每頁開始的位置\"\"\"\n",
        "    doc = fitz.open(pdf_path)\n",
        "    full_text = \"\"\n",
        "    page_starts = [0]  # 第一頁的開始位置是0\n",
        "\n",
        "    for page_num in range(len(doc)):\n",
        "        page_text = doc.load_page(page_num).get_text()\n",
        "        full_text += page_text\n",
        "        # 記錄下一頁的開始位置\n",
        "        page_starts.append(len(full_text))\n",
        "\n",
        "    return full_text, page_starts\n",
        "\n",
        "def find_term_pages(full_text, page_starts, term):\n",
        "    \"\"\"在提取的文本中搜尋term，並返回包含term的頁碼\"\"\"\n",
        "    pages_with_term = set()\n",
        "    pos = full_text.find(term)\n",
        "    while pos != -1:\n",
        "        # 確定pos在哪一頁\n",
        "        for i, start in enumerate(page_starts):\n",
        "            if pos < start:\n",
        "                pages_with_term.add(i)  # i是頁碼\n",
        "                break\n",
        "        pos = full_text.find(term, pos + 1)\n",
        "\n",
        "    return sorted(pages_with_term)\n",
        "\n",
        "# 示範用法\n",
        "pdf_file_path = '/workspaces/textmining/textmining/PDF/Files (100).PDF'\n",
        "search_term = \"Core Terms\"\n",
        "\n",
        "# 先提取文本和頁面開始位置\n",
        "full_text, page_starts = extract_text_with_page_numbers(pdf_file_path)\n",
        "\n",
        "# 再找到包含\"Core Terms\"的頁碼\n",
        "pages = find_term_pages(full_text, page_starts, search_term)\n",
        "print(\"包含'Core Terms'的頁碼有：\", pages)\n"
      ]
    }
  ],
  "metadata": {
    "colab": {
      "provenance": []
    },
    "kernelspec": {
      "display_name": "Python 3",
      "name": "python3"
    },
    "language_info": {
      "codemirror_mode": {
        "name": "ipython",
        "version": 3
      },
      "file_extension": ".py",
      "mimetype": "text/x-python",
      "name": "python",
      "nbconvert_exporter": "python",
      "pygments_lexer": "ipython3",
      "version": "3.10.13"
    }
  },
  "nbformat": 4,
  "nbformat_minor": 0
}
