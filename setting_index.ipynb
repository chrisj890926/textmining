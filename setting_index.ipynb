{
 "cells": [
  {
   "cell_type": "markdown",
   "metadata": {},
   "source": [
    "to know how many cases are in this file"
   ]
  },
  {
   "cell_type": "code",
   "execution_count": 71,
   "metadata": {},
   "outputs": [],
   "source": [
    "import fitz\n",
    "import re\n",
    "\n",
    "def extract_target_number(pdf_path):\n",
    "    doc = fitz.open(pdf_path)\n",
    "\n",
    "    for page_num in range(len(doc)):\n",
    "        page = doc.load_page(page_num)\n",
    "        blocks = page.get_text(\"dict\")[\"blocks\"]\n",
    "\n",
    "        for b in blocks:\n",
    "            if \"lines\" in b:\n",
    "                for line in b[\"lines\"]:\n",
    "                    for span in line[\"spans\"]:\n",
    "                        if (\n",
    "                            'number' in b and b['number'] == 5\n",
    "                            and 'size' in span and span['size'] == 12.0\n",
    "                            and 'font' in span and span['font'] == 'Helvetica-Bold'\n",
    "                            and page_num == 0  # Only on the first page\n",
    "                        ):\n",
    "                            match = re.search(r'\\((\\d+)\\)', span[\"text\"])\n",
    "                            if match:\n",
    "                                return int(match.group(1))\n",
    "\n",
    "    doc.close()\n"
   ]
  },
  {
   "cell_type": "markdown",
   "metadata": {},
   "source": [
    "get the title list"
   ]
  },
  {
   "cell_type": "code",
   "execution_count": 38,
   "metadata": {},
   "outputs": [],
   "source": [
    "# import fitz\n",
    "# import re\n",
    "\n",
    "# def extract_title(pdf_path, patterns):\n",
    "# # def extract_title(pdf_path):\n",
    "#     doc = fitz.open(pdf_path)\n",
    "#     extracted_text_list = []\n",
    "\n",
    "#     for page_num in range(len(doc)):\n",
    "#         page = doc.load_page(page_num)\n",
    "#         blocks = page.get_text(\"dict\")[\"blocks\"]\n",
    "\n",
    "#         for b in blocks:\n",
    "#             if \"lines\" in b:\n",
    "#                 for line in b[\"lines\"]:\n",
    "#                     for span in line[\"spans\"]:\n",
    "#                         if 'font' in span and span['font'] == 'Helvetica-Oblique':\n",
    "#                             # result_string = re.sub(r',\\s*\\d+\\s*F\\.\\d+\\s*\\d*', '', span[\"text\"])\n",
    "#                             # extracted_text_list.append(result_string.strip())\n",
    "#                             result_string = span[\"text\"].strip()\n",
    "#                             # Try matching each pattern\n",
    "#                             for pattern in patterns:\n",
    "#                                 result_string = re.sub(pattern, '', result_string)\n",
    "#                             extracted_text_list.append(result_string)    \n",
    "\n",
    "#         if len(extracted_text_list) >= extract_target_number(pdf_path):\n",
    "#             break\n",
    "\n",
    "#     doc.close()\n",
    "#     return extracted_text_list"
   ]
  },
  {
   "cell_type": "code",
   "execution_count": 46,
   "metadata": {},
   "outputs": [],
   "source": [
    "# import fitz\n",
    "# import re\n",
    "\n",
    "# def extract_title(pdf_path):\n",
    "#     doc = fitz.open(pdf_path)\n",
    "#     extracted_text_list = []\n",
    "\n",
    "#     for page_num in range(len(doc)):\n",
    "#         page = doc.load_page(page_num)\n",
    "#         blocks = page.get_text(\"dict\")[\"blocks\"]\n",
    "\n",
    "#         for b in blocks:\n",
    "#             if \"lines\" in b:\n",
    "#                 for line in b[\"lines\"]:\n",
    "#                     for span in line[\"spans\"]:\n",
    "#                         if 'font' in span and span['font'] == 'Helvetica-Oblique':\n",
    "#                             pattern = r'(.*),(?=\\s*\\d+\\s*[A-Za-z. ]+\\s*\\d+$)'\n",
    "#                             match = re.match(pattern, span[\"text\"])\n",
    "#                             if match:\n",
    "#                                 extracted_text = match.group(1).strip()\n",
    "#                                 print(extracted_text)\n",
    "#                                 extracted_text_list.append(extracted_text)    \n",
    "\n",
    "#         if len(extracted_text_list) >= extract_target_number(pdf_path):\n",
    "#             break\n",
    "\n",
    "#     doc.close()\n",
    "#     return extracted_text_list"
   ]
  },
  {
   "cell_type": "code",
   "execution_count": 72,
   "metadata": {},
   "outputs": [],
   "source": [
    "import fitz\n",
    "import re\n",
    "\n",
    "def extract_title(pdf_path):\n",
    "    doc = fitz.open(pdf_path)\n",
    "    extracted_text_list = []\n",
    "\n",
    "    for page_num in range(len(doc)):\n",
    "        page = doc.load_page(page_num)\n",
    "        blocks = page.get_text(\"dict\")[\"blocks\"]\n",
    "\n",
    "        for b in blocks:\n",
    "            if \"lines\" in b:\n",
    "                for line in b[\"lines\"]:\n",
    "                    for span in line[\"spans\"]:\n",
    "                        if 'font' in span and span['font'] == 'Helvetica-Oblique':\n",
    "                            result_string = re.sub(r',[^,]*$', '', span[\"text\"].strip())\n",
    "                            extracted_text_list.append(result_string)\n",
    "\n",
    "        if len(extracted_text_list) >= extract_target_number(pdf_path):\n",
    "            break\n",
    "\n",
    "    doc.close()\n",
    "    return extracted_text_list\n"
   ]
  },
  {
   "cell_type": "code",
   "execution_count": 78,
   "metadata": {},
   "outputs": [],
   "source": [
    "\n",
    "pdf_file_path = \"D:/antitrust/verdict/Files (35).PDF\"\n",
    "result_list = extract_title(pdf_file_path)"
   ]
  },
  {
   "cell_type": "code",
   "execution_count": 79,
   "metadata": {},
   "outputs": [
    {
     "data": {
      "text/plain": [
       "35"
      ]
     },
     "execution_count": 79,
     "metadata": {},
     "output_type": "execute_result"
    }
   ],
   "source": [
    "len(result_list)"
   ]
  },
  {
   "cell_type": "code",
   "execution_count": 75,
   "metadata": {},
   "outputs": [],
   "source": [
    "import csv"
   ]
  },
  {
   "cell_type": "markdown",
   "metadata": {},
   "source": [
    "get other information and write them into csv"
   ]
  },
  {
   "cell_type": "code",
   "execution_count": 76,
   "metadata": {},
   "outputs": [],
   "source": [
    "import fitz\n",
    "\n",
    "def getAndWrite(pdf_path, case_list, output_csv):\n",
    "\n",
    "    doc = fitz.open(pdf_path)\n",
    "    matching_texts = []\n",
    "    # date = ''\n",
    "    title = None  # Variable to store 'number': 1 text\n",
    "    court = None  # Variable to store 'number': 2 text\n",
    "    date = None  # Variable to store 'number': 3 text\n",
    "    no = None  # Variable to store 'number': 4 text\n",
    "    consider_number_2 = False  # Flag to indicate whether to consider 'number': 2 text\n",
    "    \n",
    "    for page_num in range(len(doc)):\n",
    "        page = doc.load_page(page_num)\n",
    "        blocks = page.get_text(\"dict\")[\"blocks\"]\n",
    "        for b in blocks:\n",
    "            if 'number' in b and b['number'] == 1:\n",
    "                if \"lines\" in b:\n",
    "                    # Reset text variables for each new 'number': 1\n",
    "                    title = None\n",
    "                    court = None\n",
    "                    date = None\n",
    "                    no = None\n",
    "\n",
    "                    for line in b[\"lines\"]:\n",
    "                        for span in line[\"spans\"]:\n",
    "                            if 'font' in span and span['font'] == 'Helvetica-BoldOblique':\n",
    "                                for case_name in case_list:\n",
    "                                    if span[\"text\"].strip() == case_name.strip():\n",
    "                                        title = span[\"text\"].strip()\n",
    "                                        # print(title)\n",
    "                                        # Set the flag to consider 'number': 2 and 'number': 3 text\n",
    "                                        consider_number_2 = True\n",
    "                                        break  # Stop looking for 'number': 1 text once found\n",
    "            if consider_number_2 and 'number' in b and b['number'] == 2:\n",
    "                if \"lines\" in b:\n",
    "                    for line in b[\"lines\"]:\n",
    "                        for span in line[\"spans\"]:\n",
    "                            if ('font' in span and span['font'] == 'Helvetica') and ('size' in span and span['size'] == 10):\n",
    "                                court = span[\"text\"].strip()\n",
    "                                # print(court)\n",
    "            if consider_number_2 and 'number' in b and b['number'] == 3:\n",
    "                if \"lines\" in b:\n",
    "                    for line in b[\"lines\"]:\n",
    "                        for span in line[\"spans\"]:\n",
    "                            if ('font' in span and span['font'] == 'Helvetica') and ('size' in span and span['size'] == 10):\n",
    "                                # date = span[\"text\"].strip()\n",
    "                                # date += span[\"text\"].strip()\n",
    "                                date = date.strip() + span[\"text\"].strip() if date else span[\"text\"].strip()\n",
    "            if consider_number_2 and 'number' in b and b['number'] == 4:\n",
    "                if \"lines\" in b:\n",
    "                    for line in b[\"lines\"]:\n",
    "                        for span in line[\"spans\"]:\n",
    "                            if ('font' in span and span['font'] == 'Helvetica') and ('size' in span and span['size'] == 10):\n",
    "                                no = span[\"text\"].strip()\n",
    "                                # Stop considering 'number': 2, 'number': 3, and 'number': 4 text\n",
    "                                consider_number_2 = False\n",
    "                                print({'Title': title, 'Court': court, 'Date': date, 'No': no, 'page':page_num+1 })\n",
    "                                break  # Stop looking for 'number': 4 text once found\n",
    "        # Check if 'number': 1, 'number': 2, 'number': 3, and 'number': 4 text are present, then append to the result\n",
    "        if no:\n",
    "            matching_texts.append({'Title': title, 'Court': court, 'Date': date, 'No': no, 'page':page_num+1 })\n",
    "    \n",
    "    doc.close()\n",
    "    \n",
    "    # Save matching_texts to a CSV file\n",
    "    with open(output_csv, 'w', newline='', encoding='utf-8') as csv_file:\n",
    "        fieldnames = ['Title', 'Court', 'Date', 'No', 'page']\n",
    "        writer = csv.DictWriter(csv_file, fieldnames=fieldnames)\n",
    "        \n",
    "        # Write the header\n",
    "        writer.writeheader()\n",
    "        \n",
    "        # Write the data\n",
    "        for result in matching_texts:\n",
    "            writer.writerow(result)\n",
    "\n"
   ]
  },
  {
   "cell_type": "code",
   "execution_count": 80,
   "metadata": {},
   "outputs": [
    {
     "name": "stdout",
     "output_type": "stream",
     "text": [
      "{'Title': 'Hartford Fire Ins. Co. v. Cal.', 'Court': 'Supreme Court of the United States', 'Date': 'February 23, 1993, Argued ; June 28, 1993, Decided', 'No': 'No. 91-1111', 'page': 8}\n",
      "{'Title': 'United States v. Lopez', 'Court': 'Supreme Court of the United States', 'Date': 'November 8, 1994, Argued ; April 26, 1995, Decided', 'No': 'No. 93-1260', 'page': 44}\n",
      "{'Title': 'Brown v. Pro Football', 'Court': 'Supreme Court of the United States', 'Date': 'March 27, 1996, Argued ; June 20, 1996, Decided', 'No': 'No. 95-388', 'page': 97}\n",
      "{'Title': 'Klehr v. A.O. Smith Corp.', 'Court': 'Supreme Court of the United States', 'Date': 'April 21, 1997, Argued ; June 19, 1997, Decided', 'No': 'No. 96-663', 'page': 121}\n",
      "{'Title': 'State Oil Co. v. Khan', 'Court': 'Supreme Court of the United States', 'Date': 'October 7, 1997, Argued ; November 4, 1997, Decided', 'No': 'No. 96-871', 'page': 137}\n",
      "{'Title': 'Nynex Corp. v. Discon', 'Court': 'Supreme Court of the United States', 'Date': 'October 5, 1998, Argued ; December 14, 1998, Decided', 'No': 'No. 96-1570', 'page': 152}\n",
      "{'Title': 'AT&T Corp. v. Iowa Utils. Bd.', 'Court': 'Supreme Court of the United States', 'Date': 'October 13, 1998, Argued ; January 25, 1999,Decided', 'No': 'Nos. 97-826, 97-829, 97-830, 97-831, 97-1075, 97-1087, 97-1099, 97-1141', 'page': 163}\n",
      "{'Title': \"Cal. Dental Ass'n v. Ftc\", 'Court': 'Supreme Court of the United States', 'Date': 'January 13, 1999, Argued ; May 24, 1999, Decided', 'No': 'No. 97-1625', 'page': 202}\n",
      "{'Title': 'BE&K Constr. Co. v. NLRB', 'Court': 'Supreme Court of the United States', 'Date': 'April 16, 2002, Argued ; June 24, 2002, Decided', 'No': 'No. 01-518', 'page': 229}\n",
      "{'Title': 'Verizon Communs., Inc. v. Law Offices of Curtis V. Trinko, LLP', 'Court': 'Supreme Court of the United States', 'Date': 'October 14, 2003, Argued ; January 13, 2004, Decided', 'No': 'No. 02-682', 'page': 251}\n",
      "{'Title': 'United States Postal Serv. v. Flamingo Indus. (USA) Ltd.', 'Court': 'Supreme Court of the United States', 'Date': 'December 1, 2003, Argued ; February 25, 2004, Decided', 'No': 'No. 02-1290', 'page': 271}\n",
      "{'Title': 'F. Hoffmann-La Roche Ltd v. Empagran S.A.', 'Court': 'Supreme Court of the United States', 'Date': 'April 26, 2004, Argued ; June 14, 2004, Decided', 'No': 'No. 03-724', 'page': 287}\n",
      "{'Title': 'Volvo Trucks N. Am., Inc. v. Reeder-Simco GMC, Inc.', 'Court': 'Supreme Court of the United States', 'Date': 'October 31, 2005, Argued ; January 10, 2006, Decided', 'No': 'No. 04-905', 'page': 305}\n",
      "{'Title': 'Texaco Inc. v. Dagher', 'Court': 'Supreme Court of the United States', 'Date': 'January 10, 2006, Argued ; February 28, 2006, Decided', 'No': '(No. 04-805), (No. 04-814)', 'page': 323}\n",
      "{'Title': 'Ill. Tool Works Inc. v. Indep. Ink, Inc.', 'Court': 'Supreme Court of the United States', 'Date': 'November 29, 2005, Argued ; March 1, 2006, Decided', 'No': 'No. 04-1329', 'page': 332}\n",
      "{'Title': 'Anza v. Ideal Steel Supply Corp.', 'Court': 'Supreme Court of the United States', 'Date': 'March 27, 2006, Argued ; June 5, 2006, Decided', 'No': 'No. 04-433', 'page': 347}\n",
      "{'Title': 'Bell Atl. Corp. v. Twombly', 'Court': 'Supreme Court of the United States', 'Date': 'November 27, 2006, Argued ; May 21, 2007, Decided', 'No': 'No. 05-1126', 'page': 370}\n",
      "{'Title': 'Credit Suisse Sec. (USA) LLC v. Billing', 'Court': 'Supreme Court of the United States', 'Date': 'March 27, 2007, Argued ; June 18, 2007, Decided', 'No': 'No. 05-1157', 'page': 401}\n",
      "{'Title': 'Leegin Creative Leather Prods. v. PSKS, Inc.', 'Court': 'Supreme Court of the United States', 'Date': 'March 26, 2007, Argued ; June 28, 2007, Decided', 'No': 'No. 06-480', 'page': 421}\n",
      "{'Title': 'Pac. Bell Tel. Co. v. linkLine Communs., Inc.', 'Court': 'Supreme Court of the United States', 'Date': 'December 8, 2008, Argued; February 25, 2009, Decided', 'No': 'No. 07-512', 'page': 457}\n",
      "{'Title': 'Hemi Group, LLC v. City of New York', 'Court': 'Supreme Court of the United States', 'Date': 'November 3, 2009, Argued; January 25, 2010, Decided', 'No': 'No. 08-969', 'page': 472}\n",
      "{'Title': 'Am. Needle, Inc. v. NFL', 'Court': 'Supreme Court of the United States', 'Date': 'January 13, 2010, Argued; May 24, 2010, Decided', 'No': 'No. 08-661', 'page': 491}\n",
      "{'Title': 'FTC v. Phoebe Putney Health Sys.', 'Court': 'Supreme Court of the United States', 'Date': 'November 26, 2012, Argued; February 19, 2013, Decided', 'No': 'No. 11-1160F', 'page': 513}\n",
      "{'Title': 'Comcast Corp. v. Behrend', 'Court': 'Supreme Court of the United States', 'Date': 'November 5, 2012, Argued; March 27, 2013, Decided', 'No': 'No. 11-864', 'page': 532}\n",
      "{'Title': 'FTC v. Actavis, Inc.', 'Court': 'Supreme Court of the United States', 'Date': 'March 25, 2013, Argued; June 17, 2013, Decided', 'No': 'No. 12-416', 'page': 547}\n",
      "{'Title': 'Octane Fitness, LLC v. ICON Health & Fitness, Inc.', 'Court': 'Supreme Court of the United States', 'Date': 'February 26, 2014, Argued; April 29, 2014, Decided', 'No': 'No. 12-1184', 'page': 581}\n",
      "{'Title': \"N.C. State Bd. of Dental Exam'rs v. FTC\", 'Court': 'Supreme Court of the United States', 'Date': 'October 14, 2014, Argued; February 25, 2015, Decided', 'No': 'No. 13-534', 'page': 596}\n",
      "{'Title': 'Oneok, Inc. v. Learjet, Inc.', 'Court': 'Supreme Court of the United States', 'Date': 'January 12, 2015, Argued; April 21, 2015, Decided', 'No': 'No. 13-271', 'page': 624}\n",
      "{'Title': \"Kimble v. Marvel Entm't, LLC\", 'Court': 'Supreme Court of the United States', 'Date': 'March 31, 2015, Argued; June 22, 2015, Decided', 'No': 'No. 13-720', 'page': 646}\n",
      "{'Title': 'RJR Nabisco, Inc. v. European Cmty.', 'Court': 'Supreme Court of the United States', 'Date': 'March 21, 2016, Argued; June 20, 2016, Decided', 'No': 'No. 15-138', 'page': 664}\n",
      "{'Title': 'Animal Sci. Prods. v. Hebei Welcome Pharm. Co.', 'Court': 'Supreme Court of the United States', 'Date': 'April 24, 2018, Argued; June 14, 2018, Decided', 'No': 'No. 16-1220.', 'page': 701}\n",
      "{'Title': 'Ohio v. Am. Express Co.', 'Court': 'Supreme Court of the United States', 'Date': 'February 26, 2018, Argued; June 25, 2018, Decided', 'No': 'No. 16-1454.', 'page': 712}\n",
      "{'Title': 'Apple Inc. v. Pepper', 'Court': 'Supreme Court of the United States', 'Date': 'November 26, 2018, Argued; May 13, 2019, Decided', 'No': 'No. 17-204.', 'page': 744}\n",
      "{'Title': 'NFL v. Ninth Inning, Inc.', 'Court': 'Supreme Court of the United States', 'Date': 'November 2, 2020, Decided', 'No': 'No. 19-1098.', 'page': 760}\n",
      "{'Title': 'NCAA v. Alston', 'Court': 'Supreme Court of the United States', 'Date': 'March 31, 2021, Argued; June 21, 2021, Decided', 'No': 'Nos. 20-512 and 20-520.', 'page': 762}\n"
     ]
    }
   ],
   "source": [
    "result_texts = getAndWrite(pdf_file_path, result_list, 'Files (35).csv')\n"
   ]
  }
 ],
 "metadata": {
  "kernelspec": {
   "display_name": "Python 3",
   "language": "python",
   "name": "python3"
  },
  "language_info": {
   "codemirror_mode": {
    "name": "ipython",
    "version": 3
   },
   "file_extension": ".py",
   "mimetype": "text/x-python",
   "name": "python",
   "nbconvert_exporter": "python",
   "pygments_lexer": "ipython3",
   "version": "3.10.4"
  }
 },
 "nbformat": 4,
 "nbformat_minor": 2
}
