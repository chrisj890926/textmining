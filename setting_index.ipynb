{
 "cells": [
  {
   "cell_type": "markdown",
   "metadata": {},
   "source": [
    "to know how many cases are in this file"
   ]
  },
  {
   "cell_type": "code",
   "execution_count": 66,
   "metadata": {},
   "outputs": [],
   "source": [
    "import fitz\n",
    "import re\n",
    "\n",
    "def extract_target_number(pdf_path):\n",
    "    doc = fitz.open(pdf_path)\n",
    "\n",
    "    for page_num in range(len(doc)):\n",
    "        page = doc.load_page(page_num)\n",
    "        blocks = page.get_text(\"dict\")[\"blocks\"]\n",
    "\n",
    "        for b in blocks:\n",
    "            if \"lines\" in b:\n",
    "                for line in b[\"lines\"]:\n",
    "                    for span in line[\"spans\"]:\n",
    "                        if (\n",
    "                            'number' in b and b['number'] == 5\n",
    "                            and 'size' in span and span['size'] == 12.0\n",
    "                            and 'font' in span and span['font'] == 'Helvetica-Bold'\n",
    "                            and page_num == 0  # Only on the first page\n",
    "                        ):\n",
    "                            match = re.search(r'\\((\\d+)\\)', span[\"text\"])\n",
    "                            if match:\n",
    "                                return int(match.group(1))\n",
    "\n",
    "    doc.close()\n"
   ]
  },
  {
   "cell_type": "markdown",
   "metadata": {},
   "source": [
    "get the title list"
   ]
  },
  {
   "cell_type": "code",
   "execution_count": 68,
   "metadata": {},
   "outputs": [],
   "source": [
    "import fitz\n",
    "import re\n",
    "\n",
    "def extract_title(pdf_path):\n",
    "    doc = fitz.open(pdf_path)\n",
    "    extracted_text_list = []\n",
    "\n",
    "    for page_num in range(len(doc)):\n",
    "        page = doc.load_page(page_num)\n",
    "        blocks = page.get_text(\"dict\")[\"blocks\"]\n",
    "\n",
    "        for b in blocks:\n",
    "            if \"lines\" in b:\n",
    "                for line in b[\"lines\"]:\n",
    "                    for span in line[\"spans\"]:\n",
    "                        if 'font' in span and span['font'] == 'Helvetica-Oblique':\n",
    "                            result_string = re.sub(r',[^,]*$', '', span[\"text\"].strip())\n",
    "                            extracted_text_list.append(result_string)\n",
    "\n",
    "        if len(extracted_text_list) >= extract_target_number(pdf_path):\n",
    "            break\n",
    "\n",
    "    doc.close()\n",
    "    return extracted_text_list\n"
   ]
  },
  {
   "cell_type": "code",
   "execution_count": 69,
   "metadata": {},
   "outputs": [],
   "source": [
    "\n",
    "pdf_path = \"D:/antitrust/verdict/Federal Circuit (30).PDF\"\n",
    "# pdf_path = \"D:/antitrust/verdict/Files (100).PDF\"\n",
    "result_list = extract_title(pdf_path)"
   ]
  },
  {
   "cell_type": "code",
   "execution_count": 70,
   "metadata": {},
   "outputs": [
    {
     "data": {
      "text/plain": [
       "31"
      ]
     },
     "execution_count": 70,
     "metadata": {},
     "output_type": "execute_result"
    }
   ],
   "source": [
    "len(result_list)"
   ]
  },
  {
   "cell_type": "markdown",
   "metadata": {},
   "source": [
    "get other information and write them into csv"
   ]
  },
  {
   "cell_type": "code",
   "execution_count": 71,
   "metadata": {},
   "outputs": [],
   "source": [
    "import fitz\n",
    "import csv\n",
    "\n",
    "def getAndWrite(pdf_path, case_list, output_csv):\n",
    "    doc = fitz.open(pdf_path)\n",
    "    matching_texts = []\n",
    "    titles_list = set()\n",
    "\n",
    "    title = None  # Variable to store 'number': 1 text\n",
    "    court = None  # Variable to store 'number': 2 text\n",
    "    date = None  # Variable to store 'number': 3 text\n",
    "    no = None  # Variable to store 'number': 4 text\n",
    "    consider_number_2 = False  # Flag to indicate whether to consider 'number': 2 text\n",
    "    \n",
    "    for page_num in range(len(doc)):\n",
    "        page = doc.load_page(page_num)\n",
    "        blocks = page.get_text(\"dict\")[\"blocks\"]\n",
    "        for b in blocks:\n",
    "            if 'number' in b and b['number'] == 1:\n",
    "                if \"lines\" in b:\n",
    "                    # Reset text variables for each new 'number': 1\n",
    "                    title = \"\"\n",
    "                    court = None\n",
    "                    date = None\n",
    "                    no = None\n",
    "\n",
    "                    for line in b[\"lines\"]:\n",
    "                        for span in line[\"spans\"]:\n",
    "                            if 'font' in span and span['font'] == 'Helvetica-BoldOblique':\n",
    "                                title = span[\"text\"].strip()\n",
    "                                titles_list.add(title)\n",
    "                                for case_name in case_list:\n",
    "                                    if title.strip() == case_name.strip():\n",
    "                                        consider_number_2 = True\n",
    "                                        break  # Stop looking for 'number': 1 text once found\n",
    "            if consider_number_2 and 'number' in b and b['number'] == 2:\n",
    "                if \"lines\" in b:\n",
    "                    for line in b[\"lines\"]:\n",
    "                        for span in line[\"spans\"]:\n",
    "                            if ('font' in span and span['font'] == 'Helvetica') and ('size' in span and span['size'] == 10):\n",
    "                                court = span[\"text\"].strip()\n",
    "            if consider_number_2 and 'number' in b and b['number'] == 3:\n",
    "                if \"lines\" in b:\n",
    "                    for line in b[\"lines\"]:\n",
    "                        for span in line[\"spans\"]:\n",
    "                            if ('font' in span and span['font'] == 'Helvetica') and ('size' in span and span['size'] == 10):\n",
    "                                date = date.strip() + span[\"text\"].strip() if date else span[\"text\"].strip()\n",
    "            if consider_number_2 and 'number' in b and b['number'] == 4:\n",
    "                if \"lines\" in b:\n",
    "                    for line in b[\"lines\"]:\n",
    "                        for span in line[\"spans\"]:\n",
    "                            if ('font' in span and span['font'] == 'Helvetica') and ('size' in span and span['size'] == 10):\n",
    "                                no = span[\"text\"].strip()\n",
    "                                consider_number_2 = False\n",
    "                                break  # Stop looking for 'number': 4 text once found\n",
    "        # Check if 'number': 1, 'number': 2, 'number': 3, and 'number': 4 text are present, then append to the result\n",
    "        if no:\n",
    "            matching_texts.append({'Title': title, 'Court': court, 'Date': date, 'No': no, 'page': page_num + 1 })\n",
    "\n",
    "    doc.close()\n",
    "\n",
    "    # Get the difference set 差集\n",
    "    difference_set = set(case_list).symmetric_difference(titles_list)\n",
    "    print(difference_set)\n",
    "\n",
    "    # Save matching_texts to a CSV file\n",
    "    with open(output_csv, 'w', newline='', encoding='utf-8') as csv_file:\n",
    "        fieldnames = ['Title', 'Court', 'Date', 'No', 'page']\n",
    "        writer = csv.DictWriter(csv_file, fieldnames=fieldnames)\n",
    "        \n",
    "        # Write the header\n",
    "        writer.writeheader()\n",
    "        \n",
    "        # Write the data\n",
    "        for result in matching_texts:\n",
    "            writer.writerow(result)\n"
   ]
  },
  {
   "cell_type": "code",
   "execution_count": 72,
   "metadata": {},
   "outputs": [
    {
     "name": "stdout",
     "output_type": "stream",
     "text": [
      "{'1', '9 to 5 Organization for Women Office Workers v. Board of Governors of', '9 to 5 Organization for Women Office Workers v. Board of Governors of Federal Reserve System'}\n"
     ]
    }
   ],
   "source": [
    "# Example usage:\n",
    "pdf_path = \"D:/antitrust/verdict/Federal Circuit (30).PDF\"\n",
    "# pdf_path = \"D:/antitrust/verdict/Files (100).PDF\"\n",
    "case_list = result_list\n",
    "output_csv = \"output.csv\"\n",
    "getAndWrite(pdf_path, case_list, output_csv)"
   ]
  }
 ],
 "metadata": {
  "kernelspec": {
   "display_name": "Python 3",
   "language": "python",
   "name": "python3"
  },
  "language_info": {
   "codemirror_mode": {
    "name": "ipython",
    "version": 3
   },
   "file_extension": ".py",
   "mimetype": "text/x-python",
   "name": "python",
   "nbconvert_exporter": "python",
   "pygments_lexer": "ipython3",
   "version": "3.10.4"
  }
 },
 "nbformat": 4,
 "nbformat_minor": 2
}
